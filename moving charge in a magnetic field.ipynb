{
 "cells": [
  {
   "cell_type": "code",
   "execution_count": 4,
   "id": "3d0f0984",
   "metadata": {},
   "outputs": [],
   "source": [
    "# Moving charge in magnetic field\n",
    "# F = q. (v x B)\n",
    "# if B = (0, 0, b)\n",
    "# s.t. Fx = q.v_y.b  and Fy = -q.v_x.b"
   ]
  },
  {
   "cell_type": "code",
   "execution_count": 33,
   "id": "42264c5a",
   "metadata": {},
   "outputs": [],
   "source": [
    "import numpy as np\n",
    "import matplotlib.pyplot as plt"
   ]
  },
  {
   "cell_type": "code",
   "execution_count": 133,
   "id": "05aed607",
   "metadata": {},
   "outputs": [],
   "source": [
    "q = 1\n",
    "m_e = 0.1\n",
    "b = 50\n",
    "t0 = 0\n",
    "tf = 10\n",
    "dt = 0.01\n",
    "t = np.arange(t0, tf+dt, dt)\n",
    "vx_0 = 1\n",
    "vy_0 = 1\n",
    "vz_0 = 1"
   ]
  },
  {
   "cell_type": "code",
   "execution_count": 134,
   "id": "75afd62d",
   "metadata": {},
   "outputs": [
    {
     "data": {
      "text/plain": [
       "'\\ndef velocity_propogation(v0, t, a):\\n    v = np.zeros((len(t)))\\n    v[0] = v0\\n    \\n    for i in range(len(t)-1):\\n        v[i+1] = v + a*t[i]\\n        \\n    return v '"
      ]
     },
     "execution_count": 134,
     "metadata": {},
     "output_type": "execute_result"
    }
   ],
   "source": [
    "'''\n",
    "def velocity_propogation(v0, t, a):\n",
    "    v = np.zeros((len(t)))\n",
    "    v[0] = v0\n",
    "    \n",
    "    for i in range(len(t)-1):\n",
    "        v[i+1] = v + a*t[i]\n",
    "        \n",
    "    return v '''"
   ]
  },
  {
   "cell_type": "code",
   "execution_count": 135,
   "id": "8d6d8b08",
   "metadata": {},
   "outputs": [],
   "source": [
    "F_x = lambda v_y, v_x: q*v_y*b\n",
    "F_y = lambda v_x, v_y: -q*v_x*b"
   ]
  },
  {
   "cell_type": "code",
   "execution_count": 136,
   "id": "d332184f",
   "metadata": {},
   "outputs": [],
   "source": [
    "def Euler(vx_0, vy_0, t, F_x, F_y):\n",
    "    v_x = np.zeros(len(t))\n",
    "    v_y = np.zeros(len(t))\n",
    "    v_x[0] = vx_0\n",
    "    v_y[0] = vy_0\n",
    "    dt = t[1] - t[0]\n",
    "    \n",
    "    for i in range(len(t)-1):\n",
    "        v_x[i+1] = v_x[i] + dt*F_y(v_x[i], v_y[i])\n",
    "        v_y[i+1] = v_y[i] + dt*F_x(v_y[i], v_x[i])\n",
    "        \n",
    "    return v_x, v_y"
   ]
  },
  {
   "cell_type": "code",
   "execution_count": 137,
   "id": "ac5599f5",
   "metadata": {},
   "outputs": [],
   "source": [
    "velocity_x, velocity_y = Euler(vx_0, vy_0, t, F_x, F_y)"
   ]
  },
  {
   "cell_type": "code",
   "execution_count": 138,
   "id": "ff1a523c",
   "metadata": {},
   "outputs": [
    {
     "name": "stderr",
     "output_type": "stream",
     "text": [
      "<ipython-input-138-e90f480ba464>:1: RuntimeWarning: overflow encountered in square\n",
      "  velocity_net = ((velocity_x)**2 + (velocity_y)**2)**(0.5)\n"
     ]
    }
   ],
   "source": [
    "velocity_net = ((velocity_x)**2 + (velocity_y)**2)**(0.5)"
   ]
  },
  {
   "cell_type": "code",
   "execution_count": 139,
   "id": "607bcd65",
   "metadata": {},
   "outputs": [
    {
     "data": {
      "text/plain": [
       "[<matplotlib.lines.Line2D at 0x7fe453cbfcd0>]"
      ]
     },
     "execution_count": 139,
     "metadata": {},
     "output_type": "execute_result"
    },
    {
     "data": {
      "image/png": "[encoded data removed]",
      "text/plain": [
       "<Figure size 432x288 with 1 Axes>"
      ]
     },
     "metadata": {
      "needs_background": "light"
     },
     "output_type": "display_data"
    }
   ],
   "source": [
    "plt.plot(t, velocity_net)"
   ]
  },
  {
   "cell_type": "code",
   "execution_count": 140,
   "id": "bf77934d",
   "metadata": {},
   "outputs": [
    {
     "name": "stderr",
     "output_type": "stream",
     "text": [
      "<ipython-input-140-619e0e353899>:4: RuntimeWarning: overflow encountered in square\n",
      "  a_net = ((a_x)**2 + (a_y)**2)**(0.5)\n"
     ]
    }
   ],
   "source": [
    "# accelaration_vector\n",
    "a_x = (q/m_e)*b*velocity_y\n",
    "a_y = (q/m_e)*b*velocity_x\n",
    "a_net = ((a_x)**2 + (a_y)**2)**(0.5)"
   ]
  },
  {
   "cell_type": "code",
   "execution_count": 141,
   "id": "6b7a3dbe",
   "metadata": {},
   "outputs": [],
   "source": [
    "# position_vector in time \n",
    "s = np.zeros(len(t))\n",
    "s[0] = 1000000000\n",
    "\n",
    "for i in range(len(t)-1):\n",
    "    s[i+1] = s[i] + velocity_net[i]*dt"
   ]
  },
  {
   "cell_type": "code",
   "execution_count": 143,
   "id": "4c9bb811",
   "metadata": {},
   "outputs": [
    {
     "data": {
      "text/plain": [
       "[<matplotlib.lines.Line2D at 0x7fe453e75430>]"
      ]
     },
     "execution_count": 143,
     "metadata": {},
     "output_type": "execute_result"
    },
    {
     "data": {
      "image/png": "[encoded data removed]",
      "text/plain": [
       "<Figure size 432x288 with 1 Axes>"
      ]
     },
     "metadata": {
      "needs_background": "light"
     },
     "output_type": "display_data"
    }
   ],
   "source": [
    "plt.plot(t, s)"
   ]
  },
  {
   "cell_type": "code",
   "execution_count": null,
   "id": "6c990a28",
   "metadata": {},
   "outputs": [],
   "source": []
  },
  {
   "cell_type": "code",
   "execution_count": null,
   "id": "bb1d8d46",
   "metadata": {},
   "outputs": [],
   "source": []
  },
  {
   "cell_type": "code",
   "execution_count": null,
   "id": "04855ee0",
   "metadata": {},
   "outputs": [],
   "source": []
  }
 ],
 "metadata": {
  "kernelspec": {
   "display_name": "Python 3",
   "language": "python",
   "name": "python3"
  },
  "language_info": {
   "codemirror_mode": {
    "name": "ipython",
    "version": 3
   },
   "file_extension": ".py",
   "mimetype": "text/x-python",
   "name": "python",
   "nbconvert_exporter": "python",
   "pygments_lexer": "ipython3",
   "version": "3.8.8"
  }
 },
 "nbformat": 4,
 "nbformat_minor": 5
}
